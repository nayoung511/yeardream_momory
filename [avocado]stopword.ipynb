{
  "nbformat": 4,
  "nbformat_minor": 0,
  "metadata": {
    "colab": {
      "provenance": []
    },
    "kernelspec": {
      "name": "python3",
      "display_name": "Python 3"
    },
    "language_info": {
      "name": "python"
    }
  },
  "cells": [
    {
      "cell_type": "code",
      "source": [
        "# # 정확히 일치\n",
        "\n",
        "# ko_sw_temp\n",
        "# date\n",
        "# comparison_words\n",
        "# quantity_words\n",
        "# noun\n",
        "# voca_equal\n",
        "# gamtan\n",
        "# internet\n",
        "\n",
        "# # 포함\n",
        "# bad_words\n",
        "# neg_word\n",
        "# emotion\n",
        "\n",
        "# # endswtih\n",
        "# verb_endswith\n",
        "\n",
        "# # startswith\n",
        "# voca_startswith\n",
        "\n"
      ],
      "metadata": {
        "id": "WNknYp-VkvJv"
      },
      "execution_count": null,
      "outputs": []
    },
    {
      "cell_type": "code",
      "source": [
        "# 정확히 일치\n",
        "ko_sw_temp =[\n",
        "'아','휴','아이구','아이쿠','아이고','어','나','우리','저희','따라',\n",
        "'의해','을','를','에','의','가','으로','로','에게','뿐이다',\n",
        "'의거하여','근거하여','입각하여','기준으로','예하면','예를 들면','예를 들자면','저','소인','소생',\n",
        "'저희','지말고','하지마','하지마라','다른','물론','또한','그리고','비길수 없다','해서는 안된다',\n",
        "'뿐만 아니라','만이 아니다','만은 아니다','막론하고','관계없이','그치지 않다','그러나','그런데','하지만','든간에',\n",
        "'논하지 않다','따지지 않다','설사','비록','더라도','아니면','만 못하다','하는 편이 낫다','불문하고','향하여',\n",
        "'향해서','향하다','쪽으로','틈타','이용하여','타다','오르다','제외하고','이 외에','이 밖에',\n",
        "'하여야','비로소','한다면 몰라도','외에도','이곳','여기','부터','기점으로','따라서','할 생각이다',\n",
        "'하려고하다','이리하여','그리하여','그렇게 함으로써','하지만','일때','할때','앞에서','중에서','보는데서',\n",
        "'으로써','로써','까지','해야한다','일것이다','반드시','할줄알다','할수있다','할수있어','임에 틀림없다',\n",
        "'한다면','등','등등','제','겨우','단지','다만','할뿐','딩동','댕그',\n",
        "'대해서','대하여','대하면','훨씬','얼마나','얼마만큼','얼마큼','남짓','여','얼마간',\n",
        "'약간','다소','좀','조금','다수','몇','얼마','지만','하물며','또한',\n",
        "'그러나','그렇지만','하지만','이외에도','대해 말하자면','뿐이다','다음에','반대로','반대로 말하자면','이와 반대로',\n",
        "'바꾸어서 말하면','바꾸어서 한다면','만약','그렇지않으면','까악','툭','딱','삐걱거리다','보드득','비걱거리다',\n",
        "'꽈당','응당','해야한다','에 가서','각','각각','여러분','각종','각자','제각기',\n",
        "'하도록하다','와','과','그러므로','그래서','고로','한 까닭에','하기 때문에','거니와','이지만',\n",
        "'대하여','관하여','관한','과연','실로','아니나다를가','생각한대로','진짜로','한적이있다','하곤하였다',\n",
        "'하','하하','허허','아하','거바','와','오','왜','어째서','무엇때문에',\n",
        "'어찌','하겠는가','무슨','어디','어느곳','더군다나','하물며','더욱이는','어느때','언제',\n",
        "'야','이봐','어이','여보시오','흐흐','흥','휴','헉헉','헐떡헐떡','영차',\n",
        "'여차','어기여차','끙끙','아야','앗','아야','콸콸','졸졸','좍좍','뚝뚝',\n",
        "'주룩주룩','솨','우르르','그래도','또','그리고','바꾸어말하면','바꾸어말하자면','혹은','혹시',\n",
        "'답다','및','그에 따르는','때가 되어','즉','지든지','설령','가령','하더라도','할지라도',\n",
        "'일지라도','지든지','몇','거의','하마터면','인젠','이젠','된바에야','된이상','만큼\t어찌됏든',\n",
        "'그위에','게다가','점에서 보아','비추어 보아','고려하면','하게될것이다','일것이다','비교적','좀','보다더',\n",
        "'비하면','시키다','하게하다','할만하다','의해서','연이서','이어서','잇따라','뒤따라','뒤이어',\n",
        "'결국','의지하여','기대여','통하여','자마자','더욱더','불구하고','얼마든지','마음대로','주저하지 않고',\n",
        "'곧','즉시','바로','당장','하자마자','밖에 안된다','하면된다','그래','그렇지','요컨대',\n",
        "'다시 말하자면','바꿔 말하면','즉','구체적으로','말하자면','시작하여','시초에','이상','허','헉',\n",
        "'허걱','바와같이','해도좋다','해도된다','게다가','더구나','하물며','와르르','팍','퍽',\n",
        "'펄렁','동안','이래','하고있었다','이었다','에서','로부터','까지','예하면','했어요',\n",
        "'해요','함께','같이','더불어','마저','마저도','양자','모두','습니다','가까스로',\n",
        "'하려고하다','즈음하여','다른','다른 방면으로','해봐요','습니까','했어요','말할것도 없고','무릎쓰고','개의치않고',\n",
        "'하는것만 못하다','하는것이 낫다','매','매번','들','모','어느것','어느','로써','갖고말하자면',\n",
        "'어디','어느쪽','어느것','어느해','어느 년도','라 해도','언젠가','어떤것','어느것','저기',\n",
        "'저쪽','저것','그때','그럼','그러면','요만한걸','그래','그때','저것만큼','그저',\n",
        "'이르기까지','할 줄 안다','할 힘이 있다','너','너희','당신','어찌','설마','차라리','할지언정',\n",
        "'할지라도','할망정','할지언정','구토하다','게우다','토하다','메쓰겁다','옆사람','퉤','쳇',\n",
        "'의거하여','근거하여','의해','따라','힘입어','그','다음','버금','두번째로','기타',\n",
        "'첫번째로','나머지는','그중에서','견지에서','형식으로 쓰여','입장에서','위해서','단지','의해되다','하도록시키다',\n",
        "'뿐만아니라','반대로','전후','전자','앞의것','잠시','잠깐','하면서','그렇지만','다음에',\n",
        "'그러한즉','그런즉','남들','아무거나','어찌하든지','같다','비슷하다','예컨대','이럴정도로','어떻게',\n",
        "'만약','만일','위에서 서술한바와같이','인 듯하다','하지 않는다면','만약에','무엇','무슨','어느','어떤',\n",
        "'아래윗','조차','한데','그럼에도 불구하고','여전히','심지어','까지도','조차도','하지 않도록','않기 위하여',\n",
        "'때','시각','무렵','시간','동안','어때','어떠한','하여금','네','예',\n",
        "'우선','누구','누가 알겠는가','아무도','줄은모른다','줄은 몰랏다','하는 김에','겸사겸사','하는바','그런 까닭에',\n",
        "'한 이유는','그러니','그러니까','때문에','그','너희','그들','너희들','타인','것',\n",
        "'것들','너','위하여','공동으로','동시에','하기 위하여','어찌하여','무엇때문에','붕붕','윙윙',\n",
        "'나','우리','엉엉','휘익','윙윙','오호','아하','어쨋든','만 못하다\t하기보다는','차라리',\n",
        "'하는 편이 낫다','흐흐','놀라다','상대적으로 말하자면','마치','아니라면','쉿','그렇지 않으면','그렇지 않다면','안 그러면',\n",
        "'아니었다면','하든지','아니면','이라면','좋아','알았어','하는것도','그만이다','어쩔수 없다',\n",
        "'일','일반적으로','일단','한켠으로는','오자마자','이렇게되면','이와같다면','전부','한마디','한항목',\n",
        "'근거로','하기에','아울러','하지 않도록','않기 위해서','이르기까지','이 되다','로 인하여','까닭으로','이유만으로',\n",
        "'이로 인하여','그래서','이 때문에','그러므로','그런 까닭에','알 수 있다','결론을 낼 수 있다','으로 인하여','있다','어떤것',\n",
        "'관계가 있다','관련이 있다','연관되다','어떤것들','에 대해','이리하여','그리하여','여부','하기보다는','하느니',\n",
        "'하면 할수록','운운','이러이러하다','하구나','하도다','다시말하면','다음으로','에 있다','에 달려 있다',\n",
        "'우리들','오히려','하기는한데','어떻게','어떻해','어찌됏어','어때','어째서','본대로','자',\n",
        "'이','이쪽','여기','이것','이번','이렇게말하자면','이런','이러한','이와 같은','요만큼',\n",
        "'요만한 것','얼마 안 되는 것','이만큼','이 정도의','이렇게 많은 것','이와 같다','이때','이렇구나','것과 같이','끼익',\n",
        "'삐걱','따위','와 같은 사람들','부류의 사람들','왜냐하면','중의하나','오직','오로지','에 한하다','하기만 하면',\n",
        "'도착하다','까지 미치다','도달하다','정도에 이르다','할 지경이다','결과에 이르다','관해서는','여러분','하고 있다','한 후',\n",
        "'혼자','자기','자기집','자신','우에 종합한것과같이','총적으로 보면','총적으로 말하면','총적으로','대로 하다','으로서',\n",
        "'참','그만이다','할 따름이다','쿵','탕탕','쾅쾅','둥둥','봐','봐라','아이야',\n",
        "'아니','와아','응','아이','참나','년','월','일','령','영',\n",
        "'일','이','삼','사','오','육','륙','칠','팔','구',\n",
        "'이천육','이천칠','이천팔','이천구','둘','셋','넷','다섯','여섯',\n",
        "'일곱','여덟','아홉','열','영']\n"
      ],
      "metadata": {
        "id": "Ew1tP3_v56IJ"
      },
      "execution_count": null,
      "outputs": []
    },
    {
      "cell_type": "markdown",
      "source": [
        "### 욕설 필터링"
      ],
      "metadata": {
        "id": "yQQx_QnQ57Ia"
      }
    },
    {
      "cell_type": "code",
      "source": [
        "bad_words = [\"시발\", \"새끼\", \"쌔끼\", \"후장뚫어18세키\", \"dogbaby\", \"18ㅅㅐㄲㅣ\", \"18ㅅㅔㅋㅣ\", \"yadong\", \"ㅌㅓㄹㅐㄱㅣ\", \"따아알따아리\", \"막대쑤셔줘?\", \"보지머리박기\", \"보지에자지껴\", \"보지에자지너\", \"보지핧아줄까\", \"여자ㄸㅏ먹기\", \"여자ㄸㅏ묵기\", \"조개마셔줘?\", \"조개벌려조?\", \"조개쑤셔줘?\", \"조개핧아줘?\", \"터래기터래기\", \"혀로보지핧기\", \"18nom\", \"18num\", \"18ㅅㅐ끼\", \"18ㅅㅔ키\", \"18세ㅋㅣ\", \"sex하자\", \"가슴조물락\", \"가슴주물럭\", \"가슴쪼물딱\", \"가슴쪼물락\", \"개씨발자슥\", \"개애거얼래\", \"개에거얼래\", \"개젓가튼넘\", \"개후라들놈\", \"개후라새끼\", \"걸레같은년\", \"괴에가튼?\", \"따먹어야지\", \"따아알따리\", \"떠어라아이\", \"또오라아이\", \"막대핧아줘\", \"미친씨부랄\", \"바주카자지\", \"버따리자지\", \"버어어지이\", \"버지따먹기\", \"버지물마셔\", \"버짓물마셔\", \"벌창같은년\", \"보지따먹기\", \"보지물마셔\", \"보지벌리자\", \"보지쥐어짜\", \"보지털뽑아\", \"보지틀래기\", \"보지핧아줘\", \"보짓물마셔\", \"빠아구우리\", \"사까아시이\", \"쉬이이이이\", \"쓰브랄쉽세\", \"야dong\", \"어미따먹자\", \"어미쑤시자\", \"여자따먹기\", \"여자따묵기\", \"유발조물락\", \"유방주물럭\", \"유방쪼물딱\", \"유방쪼물럭\", \"유우우방것\", \"자지빨아줘\", \"자지쓰레기\", \"자지핧아줘\", \"잠지물마셔\", \"잠짓물마셔\", \"젓가튼쉐이\", \"조개넓은년\", \"조개따조?\", \"조오우까튼\", \"좃만한쉐이\", \"좆같은새끼\", \"좆만한새끼\", \"쳐쑤셔박어\", \"촌씨브라리\", \"촌씨브랑이\", \"촌씨브랭이\", \"크리토리스\", \"클리토리스\", \"sibal\", \"fuck\", \"shit\", \"18새끼\", \"18세키\", \"boji\", \"bozi\", \"jaji\", \"jazi\", \"jot같\", \"sex해\", \"zaji\", \"zazi\", \"ㅅㅐㄲㅣ\", \"ㅆㅣㅂㅏ\", \"ㅆㅣ팍넘\", \"ㅇㅍㅊㅌ\", \"가슴만져\", \"가슴빨아\", \"가슴빨어\", \"가슴핧아\", \"가슴핧어\", \"강간한다\", \"같은새끼\", \"개가튼년\", \"개가튼뇬\", \"개같은년\", \"개거얼래\", \"개거얼레\", \"개념빠가\", \"개보지년\", \"개쓰래기\", \"개쓰레기\", \"개씁자지\", \"개씨발넘\", \"개애걸래\", \"개에가튼\", \"개에걸래\", \"개작두넘\", \"개작두년\", \"개잡지랄\", \"개저가튼\", \"개지랄넘\", \"개지랄놈\", \"개후라년\", \"걔잡지랄\", \"거지같은\", \"걸레보지\", \"걸레핀년\", \"게에가튼\", \"게지랄놈\", \"그나물에\", \"나쁜새끼\", \"난자마셔\", \"난자먹어\", \"난자핧아\", \"내꺼빨아\", \"내꺼핧아\", \"너거애비\", \"노무노무\", \"누나강간\", \"니씨브랄\", \"니아범?\", \"니할애비\", \"대애가리\", \"대에가리\", \"더어엉신\", \"더러운년\", \"덜은새끼\", \"돌은새끼\", \"동생강간\", \"뒤이치기\", \"뒤져야지\", \"뒤지고싶\", \"뒷잇치기\", \"드으응신\", \"따먹는다\", \"따먹었어\", \"따먹었지\", \"따먹을까\", \"따알따리\", \"떠어라이\", \"또오라이\", \"띠부우울\", \"띠이바알\", \"띠이버얼\", \"띠이이발\", \"띠이이벌\", \"맛없는년\", \"맛이간년\", \"미시친발\", \"미친구녕\", \"미친구멍\", \"미친새끼\", \"미친쉐이\", \"버어어지\", \"버어지이\", \"버지구녕\", \"버지구멍\", \"버지냄새\", \"버지뚫어\", \"버지뜨더\", \"버지벌려\", \"버지벌료\", \"버지빨아\", \"버지빨어\", \"버지썰어\", \"버지쑤셔\", \"버지핧아\", \"병신세리\", \"병신셰리\", \"병신씨발\", \"보지구녕\", \"보지구멍\", \"보지뚫어\", \"보지뜨더\", \"보지박어\", \"보지벌려\", \"보지벌료\", \"보지벌리\", \"보지보지\", \"보지빨아\", \"보지빨어\", \"보지자지\", \"보지정액\", \"보지찌져\", \"보지찢어\", \"보지털어\", \"보지핧아\", \"보지핧어\", \"뷰우웅신\", \"뷰웅시인\", \"빙신쉐이\", \"빠가야로\", \"빠가십새\", \"빠가씹새\", \"빠아구리\", \"빠아아라\", \"사까시이\", \"사까아시\", \"새77ㅣ\", \"성교하자\", \"섹스하자\", \"쉬이이이\", \"시미발친\", \"시미친발\", \"시바라지\", \"시바시바\", \"시박색히\", \"시박쉑히\", \"시발새끼\", \"시방색희\", \"시방쉑희\", \"시새발끼\", \"시입세에\", \"시친발미\", \"시팍새끼\", \"시팔새끼\", \"십탱구리\", \"십탱굴이\", \"십팔새끼\", \"싸가지없\", \"쌍쌍보지\", \"쓰래기같\", \"쓰레기새\", \"쓰바새끼\", \"씨가랭넘\", \"씨가랭년\", \"씨가랭놈\", \"씨박색희\", \"씨박색히\", \"씨박쉑히\", \"씨발병신\", \"씨뱅가리\", \"씨벌쉐이\", \"씨븡새끼\", \"씨새발끼\", \"씨입새에\", \"씨입세에\", \"씨팍새끼\", \"씨팍세끼\", \"씨퐁보지\", \"씨퐁자지\", \"씹탱굴이\", \"아아가리\", \"아오ㅅㅂ\", \"아오시바\", \"애미보지\", \"애미씨뱅\", \"애미자지\", \"애미잡년\", \"애미좃물\", \"어미강간\", \"엿먹어라\", \"오르가즘\", \"왕털버지\", \"왕털보지\", \"왕털자지\", \"왕털잠지\", \"유두빨어\", \"유두핧어\", \"유방만져\", \"유방빨아\", \"유방핧아\", \"유방핧어\", \"유우까압\", \"자기핧아\", \"자지구녕\", \"자지구멍\", \"자지꽂아\", \"자지넣자\", \"자지뜨더\", \"자지뜯어\", \"자지박어\", \"자지빨아\", \"자지빨어\", \"자지쑤셔\", \"자지정개\", \"자지짤라\", \"자지핧아\", \"자지핧어\", \"작은보지\", \"잠지뚫어\", \"젓대가리\", \"젓물냄새\", \"정액마셔\", \"정액먹어\", \"정액발사\", \"정액핧아\", \"정자마셔\", \"정자먹어\", \"정자핧아\", \"조개보지\", \"조개속물\", \"조오가튼\", \"조오까튼\", \"조오오조\", \"조오온니\", \"조오올라\", \"조온마니\", \"조옴마니\", \"조우까튼\", \"좀쓰레기\", \"좁빠라라\", \"좃가튼뇬\", \"좃대가리\", \"좃마무리\", \"좃만한것\", \"좃물냄새\", \"좃빠구리\", \"좃빠라라\", \"좆같은놈\", \"좆만한년\", \"좆만한놈\", \"좋만한것\", \"주둥아리\", \"지이라알\", \"쪼다새끼\", \"창녀버지\", \"창년벼지\", \"캐럿닷컴\", \"항문수셔\", \"항문쑤셔\", \"허버리년\", \"허벌보지\", \"허벌자식\", \"허벌자지\", \"헐렁보지\", \"호로새끼\", \"호로자슥\", \"호로자식\", \"호루자슥\", \"후라덜넘\", \"후우자앙\", \"후장꽂아\", \"후장뚫어\", \"18년\", \"18놈\", \"d쥐고\", \"d지고\", \"me췬\", \"me친\", \"me틴\", \"mi친\", \"mi틴\", \"ya동\", \"ㅁㅣ췬\", \"ㅂㅁㄱ\", \"ㅅ.ㅂ\", \"ㅅㄲ네\", \"ㅅㄲ들\", \"ㅅㅡ루\", \"ㅆㄹㄱ\", \"ㅆㅣ8\", \"ㅆㅣ댕\", \"ㅆㅣ뎅\", \"ㅆㅣ바\", \"ㅆㅣ발\", \"ㅇㅒ쁜\", \"ㅈ.ㄴ\", \"ㅈㅏ위\", \"ㅉ질한\", \"ㄱㅅㄲ\", \"개.웃\", \"개가튼\", \"개같이\", \"개걸래\", \"개걸레\", \"개고치\", \"개너미\", \"개라슥\", \"개마이\", \"개보지\", \"개부달\", \"개부랄\", \"개불랄\", \"개붕알\", \"개새기\", \"개새끼\", \"개색뀌\", \"개색휘\", \"개샛기\", \"개소리\", \"개쉐뀌\", \"개씁년\", \"개씁블\", \"개씨발\", \"개씨블\", \"개아기\", \"개자식\", \"개자지\", \"개잡년\", \"개저씨\", \"개저엇\", \"개지랄\", \"개후라\", \"걔잡년\", \"거시기\", \"걸래년\", \"걸레년\", \"게가튼\", \"게부럴\", \"게저엇\", \"계새끼\", \"괘새끼\", \"괴가튼\", \"굿보지\", \"김대중\", \"김치녀\", \"깨쌔끼\", \"나빼썅\", \"내미랄\", \"내미럴\", \"내버지\", \"내씨발\", \"내자지\", \"내잠지\", \"내조지\", \"노네들\", \"노알라\", \"노무현\", \"느그매\", \"니기미\", \"니미기\", \"니미랄\", \"니미럴\", \"니아범\", \"니애미\", \"니애비\", \"닝기리\", \"느그련\" \"닥쳐라\", \"닥치세\", \"달달이\", \"달딸이\", \"닳은년\", \"대가리\", \"대음순\", \"더엉신\", \"돈새끼\", \"돌았네\", \"돌으년\", \"뒤져라\", \"뒤져버\", \"뒤져야\", \"뒤져요\", \"뒤지겠\", \"뒤지길\", \"뒤진다\", \"뒤치기\", \"뒷치기\", \"드응신\", \"디져라\", \"디지고\", \"따먹기\", \"따먹어\", \"따먹자\", \"딸달이\", \"딸딸이\", \"떠라이\", \"또라이\", \"또라인\", \"똘아이\", \"띠발뇬\", \"띠부울\", \"띠브울\", \"띠블넘\", \"띠이발\", \"띠이벌\", \"막간년\", \"맛간년\", \"미쳣네\", \"미쳤나\", \"미쳤니\", \"미치인\", \"미친ㅋ\", \"미친개\", \"미친넘\", \"미친년\", \"미친놈\", \"미친눔\", \"미친새\", \"미친색\", \"미티넘\", \"미틴것\", \"방점뱅\", \"백보지\", \"버어지\", \"버지털\", \"버짓물\", \"보지녀\", \"보지물\", \"보지털\", \"보짓물\", \"뷰웅신\", \"빙시니\", \"빙신아\", \"빙시나\", \"븅시나\", \"빠가냐\", \"빠간가\", \"빠가새\", \"빠가니\", \"빠구리\", \"빠구울\", \"빠굴이\", \"빠아가\", \"빡새끼\", \"빨치산\", \"사까쉬\", \"사까시\", \"사새끼\", \"새ㄲㅣ\", \"새끼라\", \"새끼야\", \"성교해\", \"성폭행\", \"세엑스\", \"세엑쓰\", \"섹스해\", \"소음순\", \"쉬방새\", \"쉬이바\", \"쉬이이\", \"쉽알넘\", \"슈ㅣ발\", \"슈우벌\", \"슨상님\", \"시댕이\", \"시바류\", \"시바알\", \"시바앙\", \"시발년\", \"시발놈\", \"시방새\", \"시벌탱\", \"시볼탱\", \"시부럴\", \"시부렬\", \"시부울\", \"시뷰럴\", \"시뷰렬\", \"시이발\", \"시입세\", \"시키가\", \"시팔넘\", \"시팔년\", \"시팔놈\", \"십버지\", \"십부랄\", \"십부럴\", \"십세리\", \"십세이\", \"십셰리\", \"십쉐끼\", \"십자석\", \"십자슥\", \"십지랄\", \"십창녀\", \"십팔넘\", \"싸가지\", \"싸물어\", \"쌍보지\", \"쌔엑스\", \"쎄엑스\", \"씨ㅂㅏ\", \"씨댕이\", \"씨바라\", \"씨바알\", \"씨발년\", \"씨발롬\", \"씨방새\", \"씨방세\", \"씨버럼\", \"씨벌년\", \"씨벌탱\", \"씨볼탱\", \"씨부랄\", \"씨부럴\", \"씨부렬\", \"씨불알\", \"씨뷰럴\", \"씨뷰렬\", \"씨브럴\", \"씨블년\", \"씨빠빠\", \"씨섹끼\", \"씨이발\", \"씨입새\", \"씨입세\", \"씨파넘\", \"씨팍넘\", \"씨퐁넘\", \"씨퐁뇬\", \"씹미랄\", \"씹버지\", \"씹보지\", \"씹부랄\", \"씹브랄\", \"씹빵구\", \"씹뻐럴\", \"씹뽀지\", \"씹새끼\", \"씹쉐뀌\", \"씹쌔끼\", \"씹자석\", \"씹자슥\", \"씹자지\", \"씹지랄\", \"씹창녀\", \"씹탱이\", \"씹팔넘\", \"아가리\", \"애미랄\", \"애애무\", \"애에무\", \"애에미\", \"애에비\", \"에애무\", \"에에무\", \"에에미\", \"에에비\", \"여어엄\", \"여엄병\", \"염병할\", \"엿이나\", \"왕버지\", \"왕자지\", \"왕잠지\", \"왜저럼\", \"유우깝\", \"유우방\", \"은새끼\", \"이새끼\", \"자압것\", \"자지털\", \"잠지털\", \"젓같내\", \"젓냄새\", \"젓만이\", \"정액짜\", \"젖탱이\", \"졌같은\", \"조가튼\", \"조오또\", \"조오웃\", \"조오지\", \"조온나\", \"조온니\", \"조온만\", \"조올라\", \"조옷만\", \"족같내\", \"족까내\", \"존.나\", \"존ㄴ나\", \"존나아\", \"존마니\", \"좀마니\", \"좃간년\", \"좃까리\", \"좃깟네\", \"좃냄새\", \"좃만아\", \"좃만이\", \"좃보지\", \"좃부랄\", \"좃빠네\", \"좆까라\", \"좆만아\", \"좆먹어\", \"좆빨아\", \"좆새끼\", \"좋오웃\", \"죠온나\", \"주글년\", \"주길년\", \"주둥이\", \"줬같은\", \"지껄이\", \"ㅈ1랄\", \"지이랄\", \"쪽바리\", \"찝째끼\", \"쳐받는\", \"쳐발라\", \"친구년\", \"친노마\", \"큰보지\", \"페니스\", \"허벌년\", \"허벌레\", \"허어벌\", \"호냥년\", \"호로자\", \"호로잡\", \"화낭년\", \"화냥년\", \"후.려\", \"후라덜\", \"후우장\", \"미칭럼\", \"느금마\", \"ㅈ같네\", \"ㅁㅊ\", \"ㅁ친\", \"ㅂㄹ\", \"ㅂㅊ\", \"ㅂ크\", \"ㅅㅂ\", \"ㅅㅍ\", \"ㅅㅋ\", \"ㅅ루\", \"ㅅ발\", \"ㅆㄺ\", \"ㅆㅂ\", \"ㅆㅣ\", \"ㅈㄴ\", \"ㅈㄹ\", \"ㅈ리\", \"강간\", \"개간\", \"개같\", \"개넷\", \"개년\", \"개놈\", \"개독\", \"개련\", \"개섹\", \"개셈\", \"개젓\", \"개좆\", \"개쩌\", \"게젓\", \"골빈\", \"공알\", \"구씹\", \"귀두\", \"꼭지\", \"년놈\", \"뇌텅\", \"뇨온\", \"늬믜\", \"늬미\", \"니년\", \"니믜\", \"니미\", \"닥쳐\", \"대갈\", \"돈년\", \"뒈져\", \"뒤졌\", \"뒤질\", \"등신\", \"디졌\", \"디질\", \"딴년\", \"띠바\", \"띠발\", \"띠벌\", \"띠벨\", \"띠불\", \"띠블\", \"런년\", \"럼들\", \"롬들\", \"맘충\", \"머갈\", \"믜칀\", \"믜친\", \"미띤\", \"미췬\", \"미칀\", \"미친\", \"미틴\", \"및힌\", \"발놈\", \"벌창\", \"벵신\", \"별창\", \"병닥\", \"병딱\", \"병맛\", \"병신\", \"병크\", \"보지\", \"봉알\", \"부랄\", \"불알\", \"붕신\", \"붕알\", \"븅신\", \"브랄\", \"빙띤\", \"빙신\", \"빠굴\", \"빠네\", \"빠라\", \"빠큐\", \"빻았\", \"빻은\", \"뻐규\", \"뻐큐\", \"뻑유\", \"뻑큐\", \"뻨큐\", \"뼈큐\", \"뽀지\", \"상년\", \"새끼\", \"새퀴\", \"새킈\", \"새키\", \"색희\", \"색히\", \"샊기\", \"샊히\", \"샹년\", \"섀키\", \"성괴\", \"성교\", \"세끼\", \"세키\", \"섹끼\", \"섹스\", \"쇅끼\", \"쇡끼\", \"쉐끼\", \"쉬박\", \"쉬발\", \"쉬버\", \"쉬빡\", \"쉬탱\", \"쉬팍\", \"쉬펄\", \"쉽세\", \"슈발\", \"슈벌\", \"스벌\", \"싑창\", \"시바\", \"시파\", \"시발\", \"시벌\", \"시빡\", \"시빨\", \"시탱\", \"시팍\", \"시팔\", \"시펄\", \"십녀\", \"십새\", \"십세\", \"십창\", \"십탱\", \"십팔\", \"싹스\", \"쌍년\", \"쌍놈\", \"쌔끼\", \"쌕스\", \"쌕쓰\", \"썅놈\", \"썅년\", \"썌끼\", \"쎄끼\", \"쎄리\", \"쎅스\", \"쎅쓰\", \"쒸8\", \"쒸댕\", \"쒸발\", \"쒸팔\", \"쒸펄\", \"쓰댕\", \"쓰뎅\", \"쓰렉\", \"쓰루\", \"쓰바\", \"쓰발\", \"쓰벌\", \"쓰벨\", \"쓰파\", \"씌8\", \"씌댕\", \"씌뎅\", \"씌발\", \"씌벨\", \"씌팔\", \"씝창\", \"씨8\", \"씨걸\", \"씨댕\", \"씨뎅\", \"씨바\", \"씨발\", \"씨벌\", \"씨벨\", \"씨블\", \"씨븡\", \"씨비\", \"씨빡\", \"씨빨\", \"씨뻘\", \"씨입\", \"씨팍\", \"씨팔\", \"씨퐁\", \"씹귀\", \"씹년\", \"씹덕\", \"씹못\", \"씹물\", \"씹새\", \"씹세\", \"씹쌔\", \"씹창\", \"씹치\", \"씹탱\", \"씹팔\", \"씹할\", \"아닥\", \"애무\", \"애미\", \"애비\", \"앰창\", \"야동\", \"엄창\", \"에무\", \"에미\", \"에비\", \"엠생\", \"엠창\", \"염병\", \"염뵹\", \"엿같\", \"옘병\", \"외퀴\", \"요년\", \"유깝\", \"유두\", \"유방\", \"육갑\", \"은년\", \"음경\", \"이년\", \"자위\", \"자지\", \"잠지\", \"짬지\", \"잡것\", \"잡년\", \"잡놈\", \"저년\", \"저엇\", \"저엊\", \"적까\", \"절라\", \"점물\", \"젓까\", \"젓떠\", \"젓물\", \"젓밥\", \"젖같\", \"젖까\", \"젗같\", \"젼나\", \"젼낰\", \"졏같\", \"조깟\", \"조또\", \"조온\", \"족까\", \"존귀\", \"존귘\", \"존나\", \"존낙\", \"존내\", \"존니\", \"존똑\", \"존맛\", \"존멋\", \"존버\", \"존싫\", \"존쎄\", \"존쎼\", \"존예\", \"존웃\", \"존잘\", \"존잼\", \"존좋\", \"존트\", \"졸귀\", \"졸귘\", \"졸라\", \"졸맛\", \"졸멋\", \"졸싫\", \"졸예\", \"졸웃\", \"졸잼\", \"졸좋\", \"좀물\", \"좁밥\", \"좃까\", \"좃넘\", \"좃도\", \"좃또\", \"좃물\", \"좃털\", \"종나\", \"좆까\", \"좆나\", \"좆년\", \"좆도\", \"좆물\", \"좆밥\", \"좆털\", \"좋만\", \"죠낸\", \"죤나\", \"죤내\", \"죵나\", \"쥐랄\", \"쥰나\", \"쥰내\", \"쥰니\", \"쥰트\", \"즤랄\", \"지랄\", \"지럴\", \"지롤\", \"지뢀\", \"지뢰\", \"짱깨\", \"짱께\", \"쪼녜\", \"쪼다\", \"쪽발\", \"쫓같\", \"쬰잘\", \"창남\", \"창녀\", \"창년\", \"창놈\", \"처먹\", \"첫빠\", \"쳐마\", \"쳐먹\", \"취ㅈ\", \"취좃\", \"친년\", \"친놈\", \"파친\", \"펑글\", \"항문\", \"허벌\", \"호로\", \"후려\", \"후장\", \"꽃휴\", \"ㅂㅅ\", \"걔섀\", \"느금\", \"늑음\", \"ㅈ같\", \"ㅄ\", \"凸\", \"뇬\", \"썅\", \"씹\", \"좃\", \"좆\", \"좇\", \"죶\", \"쫂\", \"쬲\",\n",
        "             \"느그련\", \"스발\", \"띠밤\", '이년', '이년아', \"애미년\",\n",
        "\n",
        "\"rosy palm and her 5 sisters\", \"son of a motherless goat\", \"fuckingshitmotherfucker\", \"leather straight jacket\", \"two fingers with tongue\", \"prince albert piercing\", \"missionary position\", \"alabama hot pocket\", \"chocolate rosebuds\", \"double penetration\", \"chick with a dick\", \"cleveland steamer\", \"leather restraint\", \"one cup two girls\", \"two girls one cup\", \"wrinkled starfish\", \"alaskan pipeline\", \"bang (one's) box\", \"female squirting\", \"one guy one jar\", \"reverse cowgirl\", \"taking the piss\", \"acrotomophilia\", \"beaver cleaver\", \"blow your load\", \"carpet muncher\", \"male squirting\", \"menage a trois\", \"motherfuckings\", \"mound of venus\", \"pleasure chest\", \"rusty trombone\", \"son of a bitch\", \"son of a whore\", \"son-of-a-bitch\", \"yellow showers\", \"2 girls 1 cup\", \"beef curtains\", \"brotherfucker\", \"brown showers\", \"carpetmuncher\", \"clitty litter\", \"clover clamps\", \"cop some wood\", \"dingleberries\", \"dirty pillows\", \"dirty sanchez\", \"fingerfuckers\", \"fingerfucking\", \"fingerfucking\", \"gender bender\", \"golden shower\", \"how to murdep\", \"how to murder\", \"masterbations\", \"mothafuckings\", \"mother fucker\", \"mother fucker\", \"motherfuckers\", \"motherfucking\", \"need the dick\", \"piece of shit\", \"sausage queen\", \"shaved beaver\", \"splooge moose\", \"suicide girls\", \"whorealicious\", \"window licker\", \"anal impaler\", \"anal leakage\", \"ball licking\", \"ball sucking\", \"barely legal\", \"beef curtain\", \"big knockers\", \"bunny fucker\", \"child-fucker\", \"cockmongruel\", \"cum dumpster\", \"cum dumpster\", \"cyberfuckers\", \"cyberfucking\", \"cyberfucking\", \"dawgie-style\", \"dendrophilia\", \"doggie style\", \"doggie-style\", \"donkey punch\", \"donkeyribber\", \"douchewaffle\", \"eat hair pie\", \"eat hair pie\", \"ejaculatings\", \"fingerfucked\", \"fingerfucked\", \"fingerfucker\", \"fingerfucker\", \"fistfuckings\", \"fistfuckings\", \"flog the log\", \"fuck buttons\", \"fuck yo mama\", \"fuck yo mama\", \"fuckersucker\", \"fudge packer\", \"fudge-packer\", \"goldenshower\", \"homodumbshit\", \"iberian slap\", \"jungle bunny\", \"make me come\", \"masterbating\", \"masterbation\", \"masturbating\", \"masturbation\", \"microphallus\", \"mothafuckers\", \"mothafucking\", \"mothafucking\", \"motherfucked\", \"motherfucker\", \"motherfuckin\", \"motherfuckka\", \"muthafuckker\", \"mutherfucker\", \"porch monkey\", \"pussy palace\", \"pussy palace\", \"pussylicking\", \"pussypounder\", \"raging boner\", \"shaved pussy\", \"sultry women\", \"sumofabiatch\", \"tittiefucker\", \"urethra play\", \"vorarephilia\", \"auto erotic\", \"baby batter\", \"beardedclam\", \"beastiality\", \"beaver lips\", \"blue waffle\", \"blue waffle\", \"bullet vibe\", \"bullshitted\", \"bust a load\", \"butt-pirate\", \"chi-chi man\", \"clit licker\", \"clusterfuck\", \"cock pocket\", \"cock sucker\", \"cockholster\", \"cockknocker\", \"cockmongler\", \"cockmuncher\", \"cocksniffer\", \"cock-sucker\", \"cocksuckers\", \"cocksucking\", \"coprolagnia\", \"coprophilia\", \"cum chugger\", \"cum chugger\", \"cum guzzler\", \"cum guzzler\", \"cumdumpster\", \"cunillingus\", \"cunnilingus\", \"cuntlicking\", \"cuntlicking\", \"cunt-struck\", \"cunt-struck\", \"cyberfucked\", \"cyberfucked\", \"cyberfucker\", \"deep throat\", \"dickbeaters\", \"dickflipper\", \"dick-sneeze\", \"dicksucking\", \"dicktickler\", \"dickwhipper\", \"dingleberry\", \"doggiestyle\", \"doggy style\", \"doggy-style\", \"donkeypunch\", \"double dong\", \"ejaculating\", \"ejaculating\", \"ejaculation\", \"f u c k e r\", \"fannybandit\", \"fannyfucker\", \"fartknocker\", \"fingerfucks\", \"fingerfucks\", \"fistfuckers\", \"fistfuckers\", \"fistfucking\", \"fistfucking\", \"foot fetish\", \"fuck puppet\", \"fuck puppet\", \"fuck trophy\", \"fuck trophy\", \"fudgepacker\", \"hardcoresex\", \"intercourse\", \"junglebunny\", \"lemon party\", \"master-bate\", \"master-bate\", \"mothafuckas\", \"mothafuckaz\", \"mothafucked\", \"mothafucked\", \"mothafucker\", \"mothafuckin\", \"motherfucka\", \"motherfucks\", \"muthafecker\", \"nimphomania\", \"nsfw images\", \"nymphomania\", \"pedophiliac\", \"penisbanger\", \"penisfucker\", \"penispuffer\", \"pillowbiter\", \"pole smoker\", \"porchmonkey\", \"pornography\", \"prickteaser\", \"sand nigger\", \"shit fucker\", \"shit fucker\", \"shitspitter\", \"slut bucket\", \"slut bucket\", \"spread legs\", \"style doggy\", \"tea bagging\", \"thundercunt\", \"tittyfucker\", \"two fingers\", \"unclefucker\", \"venus mound\", \"violet wand\", \"whorehopper\", \"asscracker\", \"ass-fucker\", \"ass-jabber\", \"assmuncher\", \"ass-pirate\", \"autoerotic\", \"baby juice\", \"ball gravy\", \"bestiality\", \"black cock\", \"bloodclaat\", \"booooooobs\", \"booty call\", \"bumblefuck\", \"buttcheeks\", \"buttfucker\", \"c0cksucker\", \"chota bags\", \"chota bags\", \"circlejerk\", \"cockburger\", \"cockfucker\", \"cockjockey\", \"cockknoker\", \"cockmaster\", \"cockmonkey\", \"cocknugget\", \"cocksmoker\", \"cocksucked\", \"cocksucked\", \"cocksucker\", \"cockwaffle\", \"cokmuncher\", \"corksucker\", \"corp whore\", \"corp whore\", \"crackwhore\", \"cumguzzler\", \"cunilingus\", \"cunthunter\", \"cuntlicker\", \"cuntlicker\", \"deepthroat\", \"dickdipper\", \"dickfucker\", \"dickmonger\", \"dickripper\", \"dicksipper\", \"dicksucker\", \"dickweasel\", \"dickzipper\", \"dog-fucker\", \"doggystyle\", \"dominatrix\", \"douchebags\", \"douche-fag\", \"eat a dick\", \"eat a dick\", \"eat my ass\", \"ejaculated\", \"ejaculates\", \"ejaculates\", \"faggotcock\", \"fannyflaps\", \"fingerbang\", \"fingerfuck\", \"fingerfuck\", \"fistfucked\", \"fistfucked\", \"fistfucker\", \"fistfucker\", \"fleshflute\", \"fuck-bitch\", \"fuck-bitch\", \"fuckbutter\", \"fucknugget\", \"gangbanged\", \"gayfuckist\", \"giant cock\", \"god-damned\", \"homoerotic\", \"kunilingus\", \"lovemaking\", \"m45terbate\", \"ma5terbate\", \"masterbat*\", \"masterbat3\", \"masterbate\", \"masturbate\", \"mothafucka\", \"mothafucks\", \"motherfuck\", \"muff diver\", \"muffdiving\", \"p.u.s.s.y.\", \"paedophile\", \"peckerhead\", \"pedophilia\", \"polesmoker\", \"poop chute\", \"poopuncher\", \"prostitute\", \"pussy fart\", \"pussy fart\", \"sandnigger\", \"scissoring\", \"shitbagger\", \"shitbrains\", \"shitbreath\", \"shitcanned\", \"slutdumper\", \"strip club\", \"teabagging\", \"twatwaffle\", \"undressing\", \"whorehouse\", \"analprobe\", \"anilingus\", \"assbandit\", \"assbanged\", \"assbanger\", \"assfucker\", \"assgoblin\", \"asshopper\", \"assjacker\", \"asslicker\", \"assmaster\", \"assmonkey\", \"assnigger\", \"asspirate\", \"asssucker\", \"ball sack\", \"barenaked\", \"bastinado\", \"batty boy\", \"bescumber\", \"bitch tit\", \"bitchtits\", \"bull shit\", \"bullshits\", \"bullturds\", \"bung hole\", \"butt fuck\", \"butt plug\", \"buttfucka\", \"buttmunch\", \"camel toe\", \"chesticle\", \"cock snot\", \"cockblock\", \"cockmunch\", \"cocksmith\", \"cocksmoke\", \"cocksucks\", \"cocksucks\", \"cocksukka\", \"cum freak\", \"cum freak\", \"cumbubble\", \"cumjockey\", \"cunt hair\", \"cunt hair\", \"cuntsicle\", \"cuntsicle\", \"cyberfuck\", \"cyberfuck\", \"date rape\", \"dick head\", \"dick hole\", \"dick hole\", \"dickheads\", \"dickjuice\", \"dog style\", \"douchebag\", \"dp action\", \"dumbasses\", \"ejaculate\", \"ejakulate\", \"fagfucker\", \"fist fuck\", \"fist fuck\", \"fistfucks\", \"fistfucks\", \"fuck hole\", \"fuck hole\", \"fuckbrain\", \"fuckheads\", \"fuckstick\", \"fuck-tard\", \"fucktards\", \"gang bang\", \"gang-bang\", \"gang-bang\", \"gangbangs\", \"gassy ass\", \"gassy ass\", \"goddamned\", \"goddamnit\", \"group sex\", \"hot chick\", \"jackasses\", \"jail bait\", \"jiggerboo\", \"knobjocky\", \"knobjokey\", \"m-fucking\", \"mothafuck\", \"muff puff\", \"muff puff\", \"muffdiver\", \"nob jokey\", \"octopussy\", \"pedophile\", \"phone sex\", \"pigfucker\", \"pissflaps\", \"poopchute\", \"queerbait\", \"queerhole\", \"rosy palm\", \"shitblimp\", \"shiteater\", \"shitfaced\", \"shitheads\", \"shithouse\", \"shitstain\", \"shittiest\", \"shittings\", \"skullfuck\", \"strappado\", \"threesome\", \"throating\", \"tittyfuck\", \"tittywank\", \"towelhead\", \"tribadism\", \"urophilia\", \"wet dream\", \"wh0reface\", \"whoreface\", \"zoophilia\", \"arsehole\", \"ass fuck\", \"ass hole\", \"assbangs\", \"assclown\", \"assfaces\", \"assfukka\", \"assholes\", \"assmucus\", \"assmucus\", \"assmunch\", \"assshole\", \"asswhole\", \"asswipes\", \"ball gag\", \"ballsack\", \"bangbros\", \"bastardo\", \"bastards\", \"beastial\", \"beeyotch\", \"big tits\", \"birdlock\", \"bitchass\", \"bitchers\", \"bitching\", \"blow job\", \"blow mud\", \"blowjobs\", \"blumpkin\", \"bollocks\", \"booooobs\", \"bulldyke\", \"bullshit\", \"bunghole\", \"buttfuck\", \"buttmuch\", \"buttplug\", \"c.o.c.k.\", \"cameltoe\", \"camwhore\", \"choc ice\", \"clitface\", \"clitfuck\", \"clitorus\", \"cockbite\", \"cockface\", \"cockhead\", \"cocklump\", \"cocknose\", \"cockshit\", \"cocksuck\", \"cocksuck\", \"cocksuka\", \"coksucka\", \"coonnass\", \"cornhole\", \"cornhole\", \"cumshots\", \"cumstain\", \"cuntface\", \"cunthole\", \"cuntlick\", \"cuntlick\", \"cuntslut\", \"cyberfuc\", \"daterape\", \"dick shy\", \"dick shy\", \"dickface\", \"dickfuck\", \"dickhead\", \"dickhole\", \"dick-ish\", \"dickmilk\", \"dickslap\", \"dickweed\", \"doochbag\", \"dry hump\", \"dumb ass\", \"dumbcunt\", \"dumbfuck\", \"dumbshit\", \"erection\", \"essohbee\", \"felching\", \"fellatio\", \"feltcher\", \"fistfuck\", \"foreskin\", \"frotting\", \"fuck off\", \"fuck you\", \"fuck-ass\", \"fuck-ass\", \"fuckbutt\", \"fuckedup\", \"fuckface\", \"fuckhead\", \"fuckhole\", \"fuckings\", \"fuckmeat\", \"fuckmeat\", \"fucknutt\", \"fucktard\", \"fucktart\", \"fucktwat\", \"fuckwhit\", \"fuckwitt\", \"futanari\", \"gangbang\", \"godsdamn\", \"goo girl\", \"goodpoop\", \"goregasm\", \"hand job\", \"horniest\", \"hot carl\", \"jack off\", \"jackhole\", \"jack-off\", \"jailbait\", \"jerk off\", \"jerk-off\", \"jiggaboo\", \"kinkster\", \"knobhead\", \"ma5terb8\", \"masterb8\", \"mcfagget\", \"nobjocky\", \"nobjokey\", \"numbnuts\", \"nut sack\", \"omorashi\", \"orgasims\", \"orgasmic\", \"pedobear\", \"phonesex\", \"phukking\", \"piss pig\", \"ponyplay\", \"poontang\", \"retarded\", \"s.h.i.t.\", \"shagging\", \"shit ass\", \"shitcunt\", \"shitdick\", \"shitface\", \"shitfuck\", \"shitfull\", \"shithead\", \"shithole\", \"shitings\", \"shitters\", \"shitters\", \"shittier\", \"shitting\", \"slanteye\", \"slutkiss\", \"sodomize\", \"strap on\", \"testical\", \"testicle\", \"tit wank\", \"tit wank\", \"tub girl\", \"twathead\", \"twatlips\", \"vajayjay\", \"veqtable\", \"whorebag\", \"a$$hole\", \"a55hole\", \"apeshit\", \"assbang\", \"assbite\", \"asscock\", \"assface\", \"assfuck\", \"assh0le\", \"ass-hat\", \"asshead\", \"assho1e\", \"asshole\", \"asslick\", \"assshit\", \"asswipe\", \"axwound\", \"ballbag\", \"bastard\", \"beaners\", \"bellend\", \"bestial\", \"bigtits\", \"bitched\", \"bitcher\", \"bitches\", \"bitchin\", \"blow me\", \"blowjob\", \"boiolas\", \"bollock\", \"bondage\", \"boobies\", \"boooobs\", \"breasts\", \"bumclat\", \"c.0.c.k\", \"c.u.n.t\", \"c-0-c-k\", \"camgirl\", \"camslut\", \"c-o-c-k\", \"cockass\", \"cockeye\", \"coochie\", \"cripple\", \"cumdump\", \"cumdump\", \"cumming\", \"cumshot\", \"cumslut\", \"cumtart\", \"c-u-n-t\", \"cuntass\", \"cuntbag\", \"cuntbag\", \"cuntrag\", \"dickbag\", \"dickish\", \"dickwad\", \"dickwod\", \"diligaf\", \"dipship\", \"dipshit\", \"dogging\", \"dolcett\", \"douchey\", \"dumbass\", \"dumshit\", \"erotism\", \"f u c k\", \"f.u.c.k\", \"f_u_c_k\", \"fagging\", \"faggitt\", \"faggots\", \"fagtard\", \"fcuking\", \"felcher\", \"fellate\", \"fisting\", \"footjob\", \"f-u-c-k\", \"fuckass\", \"fuckbag\", \"fuckboy\", \"fuckers\", \"fucking\", \"fucknut\", \"fuckoff\", \"fucktoy\", \"fucktoy\", \"fuckwad\", \"fuckwit\", \"fukkers\", \"fukwhit\", \"gay sex\", \"gayfuck\", \"gaytard\", \"goddamn\", \"handjob\", \"humping\", \"jackass\", \"jackoff\", \"jerk0ff\", \"jerkass\", \"jerkoff\", \"jigaboo\", \"kinbaku\", \"knobead\", \"knobend\", \"kooches\", \"lameass\", \"lardass\", \"mafugly\", \"mafugly\", \"nawashi\", \"nig nog\", \"nigaboo\", \"niggers\", \"nig-nog\", \"nobhead\", \"nutsack\", \"orgasim\", \"orgasms\", \"pegging\", \"phallic\", \"phuking\", \"phukked\", \"pisspig\", \"pollock\", \"poonani\", \"poonany\", \"punanny\", \"pussies\", \"raghead\", \"reetard\", \"rimming\", \"s_h_i_t\", \"schlong\", \"s-h-1-t\", \"shagger\", \"shaggin\", \"shemale\", \"shibari\", \"s-h-i-t\", \"shitass\", \"shitbag\", \"shiting\", \"shitted\", \"shitter\", \"shiznit\", \"slutbag\", \"sod off\", \"splooge\", \"strapon\", \"suckass\", \"t1tt1e5\", \"t1tties\", \"titfuck\", \"tittie5\", \"titties\", \"titwank\", \"tubgirl\", \"twunter\", \"upskirt\", \"vjayjay\", \"wankjob\", \"wetback\", \"whoring\", \"assbag\", \"asshat\", \"asswad\", \"azazel\", \"bampot\", \"beaner\", \"beatch\", \"beotch\", \"biatch\", \"bimbos\", \"bitchy\", \"bollok\", \"bollox\", \"boners\", \"booger\", \"booobs\", \"bootee\", \"bootie\", \"boozer\", \"bosomy\", \"buceta\", \"bugger\", \"bummer\", \"chincs\", \"chinky\", \"choade\", \"choade\", \"chodes\", \"clitty\", \"clunge\", \"coital\", \"commie\", \"coochy\", \"cooter\", \"crappy\", \"cretin\", \"crikey\", \"crotte\", \"cummer\", \"cummin\", \"cunnie\", \"cyalis\", \"d0uch3\", \"d0uche\", \"dammit\", \"dildos\", \"doggin\", \"dommes\", \"doofus\", \"dookie\", \"douch3\", \"douche\", \"dumass\", \"erotic\", \"escort\", \"extacy\", \"extasy\", \"fagbag\", \"fagged\", \"faggit\", \"faggot\", \"fagots\", \"fatass\", \"fcuker\", \"feltch\", \"femdom\", \"fenian\", \"fisted\", \"floozy\", \"fondle\", \"fooker\", \"fucked\", \"fucker\", \"fuckin\", \"fuckme\", \"fuckme\", \"fuckup\", \"fukker\", \"fukkin\", \"fukwit\", \"gayass\", \"gaybob\", \"gaysex\", \"gaywad\", \"gigolo\", \"goatcx\", \"goatse\", \"gokkun\", \"g-spot\", \"hentai\", \"heroin\", \"herpes\", \"homoey\", \"honkey\", \"hooker\", \"hotsex\", \"humped\", \"inbred\", \"incest\", \"jerked\", \"jizzed\", \"knobed\", \"kootch\", \"l3i+ch\", \"l3itch\", \"lezzie\", \"lolita\", \"molest\", \"moolie\", \"murder\", \"muther\", \"n1gger\", \"nambla\", \"nigg3r\", \"nigg4h\", \"niggah\", \"niggas\", \"niggaz\", \"nigger\", \"niglet\", \"nudity\", \"nympho\", \"opiate\", \"orgasm\", \"orgies\", \"peepee\", \"penial\", \"penile\", \"phuked\", \"pimpis\", \"polack\", \"pornos\", \"pricks\", \"punani\", \"punany\", \"pussys\", \"queero\", \"raping\", \"rapist\", \"raunch\", \"retard\", \"rimjaw\", \"rimjob\", \"ritard\", \"r-tard\", \"s.o.b.\", \"sadism\", \"sadist\", \"schizo\", \"scroat\", \"scrote\", \"shited\", \"shitey\", \"shitty\", \"smutty\", \"sodomy\", \"spooge\", \"stiffy\", \"stoned\", \"testee\", \"testes\", \"testis\", \"tities\", \"tosser\", \"tranny\", \"twatty\", \"undies\", \"v14gra\", \"vagina\", \"va-j-j\", \"wanker\", \"whored\", \"whores\", \"wigger\", \"yeasty\", \"a_s_s\", \"ahole\", \"arrse\", \"asses\", \"b!tch\", \"b00bs\", \"b17ch\", \"b1tch\", \"bi+ch\", \"bimbo\", \"bitch\", \"boned\", \"boner\", \"boobs\", \"booby\", \"boong\", \"booze\", \"boozy\", \"bosom\", \"busty\", \"chinc\", \"chink\", \"choad\", \"chode\", \"clits\", \"coons\", \"cunny\", \"cunts\", \"d1ld0\", \"d1ldo\", \"dicks\", \"dildo\", \"doosh\", \"dopey\", \"erect\", \"f4nny\", \"faggs\", \"fagot\", \"faigt\", \"fanyy\", \"fecal\", \"felch\", \"fisty\", \"fubar\", \"fucka\", \"fucks\", \"fuker\", \"fux0r\", \"gaydo\", \"gippo\", \"glans\", \"gooks\", \"gspot\", \"hobag\", \"honky\", \"horny\", \"juggs\", \"kafir\", \"kikes\", \"kooch\", \"labia\", \"leper\", \"lezza\", \"mo-fo\", \"moron\", \"mutha\", \"n1gga\", \"negro\", \"nigga\", \"nonce\", \"opium\", \"penis\", \"phuck\", \"phuks\", \"porno\", \"potty\", \"prick\", \"pubes\", \"pubic\", \"pubis\", \"pusse\", \"pussi\", \"pussy\", \"queaf\", \"queaf\", \"queef\", \"raped\", \"raper\", \"rapey\", \"renob\", \"rtard\", \"s hit\", \"scrog\", \"scrot\", \"semen\", \"shite\", \"shits\", \"shitt\", \"shota\", \"slave\", \"sluts\", \"snuff\", \"s-o-b\", \"spook\", \"spunk\", \"teets\", \"teste\", \"titty\", \"tramp\", \"tushy\", \"twats\", \"twunt\", \"v1gra\", \"vixen\", \"vulva\", \"wanky\", \"wazoo\", \"wh0re\", \"whoar\", \"whore\", \"yiffy\", \"yobbo\", \"zibbi\", \"2g1c\", \"4r5e\", \"5h1t\", \"5hit\", \"anal\", \"ar5e\", \"arse\", \"barf\", \"bdsm\", \"bint\", \"bong\", \"boob\", \"bung\", \"c0ck\", \"cawk\", \"cipa\", \"cl1t\", \"clit\", \"cnut\", \"coon\", \"crap\", \"cums\", \"cunt\", \"d0ng\", \"d1ck\", \"dick\", \"dlck\", \"fack\", \"fagg\", \"fags\", \"faig\", \"fcuk\", \"foad\", \"fuck\", \"fuck\", \"fuks\", \"fvck\", \"fxck\", \"gtfo\", \"h0m0\", \"h0mo\", \"hoer\", \"hom0\", \"hore\", \"japs\", \"jerk\", \"jism\", \"jizm\", \"jizm\", \"jizz\", \"jock\", \"kike\", \"kunt\", \"kwif\", \"kyke\", \"lube\", \"m0f0\", \"m0fo\", \"meth\", \"milf\", \"mof0\", \"mofo\", \"nude\", \"orgy\", \"p0rn\", \"paki\", \"phuk\", \"phuq\", \"pimp\", \"poof\", \"poon\", \"porn\", \"prig\", \"pron\", \"pthc\", \"pube\", \"puss\", \"quim\", \"rape\", \"scum\", \"seks\", \"sexo\", \"sh!+\", \"sh!t\", \"sh1t\", \"shag\", \"shi+\", \"shit\", \"shiz\", \"slut\", \"smut\", \"stfu\", \"taff\", \"taig\", \"tard\", \"teat\", \"teez\", \"titi\", \"tits\", \"titt\", \"turd\", \"tush\", \"tw4t\", \"twat\", \"wang\", \"wank\", \"yaoi\", \"zubb\", \"a$$\", \"a2m\", \"a55\", \"ass\", \"azz\", \"bbw\", \"cok\", \"cum\", \"fag\", \"fuc\", \"gfy\", \"jap\", \"jiz\", \"jiz\", \"pee\", \"s0b\", \"sex\", \"t1t\", \"tit\", \"vag\", \"wad\", \"wog\", \"wop\", \"wtf\", \"yid\"]"
      ],
      "metadata": {
        "id": "nanQ7a27583O"
      },
      "execution_count": null,
      "outputs": []
    },
    {
      "cell_type": "markdown",
      "source": [
        "### 감정 리스트"
      ],
      "metadata": {
        "id": "6Vj8JSpe6q97"
      }
    },
    {
      "cell_type": "code",
      "source": [
        "# 주어진 emotion 리스트\n",
        "emotion = ['감격스럽다',\n",
        "'걱정스럽다','고맙다','괜찮다','괴롭다','궁금하다','귀엽다','그립다','기쁘다','나쁘다','놀라다',\n",
        "'다행스럽다','달콤하다','답답하다','당황스럽다','두렵다','따분하다','무겁다','무섭다','미안하다','밉다',\n",
        "'반갑다','벅차다','보고싶다','부끄럽다','부담스럽다','불쌍하다','불안하다','불쾌하다','불편하다','불행하다',\n",
        "'뿌듯하다','사랑하다','산뜻하다','상쾌하다','상큼하다','서럽다','설레다','속상하다','슬프다','신기하다',\n",
        "'신나다','심술 나다','쓸쓸하다','아프다','안쓰럽다','안타깝다','야속하다','어이없다','억울하다','얼떨떨하다',\n",
        "'예쁘다','외롭다','용감하다','우습다','울적하다','원망하다','유쾌하다','자랑스럽다','정겹다','조마조마하다',\n",
        "'좋다','즐겁다','짜증스럽다','찝찝하다','찡하다','창피하다','철렁하다','초조하다','통쾌하다','편안하다',\n",
        "'평화롭다','행복하다','허무하다','허전하다','허탈하다','화나다','후련하다','훈훈하다','흐뭇하다','기쁜','벅찬',\n",
        "'포근한','흐뭇한','상쾌한','짜릿한','시원한','반가운','후련한','살맛나는','신바람 나는','아늑한',\n",
        "'흥분되는','온화한','안전한','느긋한','끝내주는','날아 갈 듯한','괜찮은','쌈박한','정다운','그리운',\n",
        "'화사한','자유로운','따사로운','감미로운','황홀한','상큼한','평화로운',' 뭉클한','눈물겨운','서운한',\n",
        "'처량한','울적한','위축되는','허탈한','애끓는','애처로운','외로운','후회스러운','울고싶은','북받치는',\n",
        "'쓸쓸한','주눅드는','공허한','허전한','침울한','적적한','낙심되는','우울한','참담한','맥빠지는',\n",
        "'애틋한','애석한','비참한','풀이 죽은','암담한','무기력한','거북스러운','막막한','서글픈','안타까운',\n",
        "'짓눌리는 듯한','마음이 무거운','자포자기의','절망스러운','죽고싶은','뭔가 잃은 듯한','얄미운','열받는','지겨운','못마땅한',\n",
        "'권태로운','불쾌한','불만스러운','불편한','지루한','찝찝한','떨떠름한','심술나는','언짢은','후덥지근한',\n",
        "'씁쓸한','괘씸한','야릇한','성질 나는','약오르는','쌀쌀한','짜증스러운','분한','속상한','하찮은',\n",
        "'원망스러운','신경질 나는','더러운','부담스러운','귀찮은','역겨운','핏대나는','미칠 것 같은','끔찍한','기분 나쁜', '기분',\n",
        "'세상이 싫은','메스꺼운','따분한','넌더리나는','피하고 싶은','혐오스러운','꼴보기 싫은','당황스러운','초조한',\n",
        "'긴장되는','어이없는','억울한','조급한','걱정스러운','참담한','두려운','어리둥절한','놀라운','멍한',\n",
        "'가혹한','조마조마한','막막한','답답한','참을 수 없는','겁나는','섬뜩한','난처한','죽을 것 같은','떨리는',\n",
        "'충격적인','위태위태한','기가 막힌','정신이 번쩍 드는','전전긍긍하는','어이없는','살벌한','조바심을 태우는','큰일날 것 같은','목이 메이는',\n",
        "'가슴아픈','쓰라린', '시달린', '소름끼치는','전율을 느끼는','몸서리쳐지는','피가 끓는','쑤시는','두근두근하는','애간장이 타는','구역질나는',\n",
        "'진땀나는','숨가쁜','속이 빈 것 같은','다리가 후들거리는','간담이 서늘한','배가 아픈','넋잃은','몸 둘 바를 모르는','속이 부글부글 끓는','가슴이 저미는',\n",
        "'숨막히는','골 때리는','얼굴이 화끈거리는','머리칼이 곤두서는','터질 것 같은','쓰러질 것 같은','간이 콩알만해지는','손에 땀을 쥐는 듯한','활기찬','힘찬',\n",
        "'생생한','의기양양한','든든한','격렬한','열렬한','당당한','팔팔한','엄청난','자신만만한','패기만만한',\n",
        "'야생마 같은','강렬한','충만한','싱싱한','무기력한','기죽은','넋 나간','왜소한','미약한','미세한',\n",
        "'부끄러운','쑥스러운','수줍은','멋 적은','민망한','창피스러운','계면쩍은','어색한','미안한','애매한',\n",
        "'야릇한','뻔뻔스러운','어중간한','미심쩍은','서투른','묘한','조롱당한','뒤가 캥기는','아리송한','자책하는',\n",
        "'이상한','창피한','죄스러운','안심이 안 되는','벌거벗은','영문모를','한심한','뭔가 아닌 것 같은','쪽팔리는','무거운',\n",
        "'캄캄한','가라앉는 듯한','쥐구멍을 찾고 싶은','그저 그런','뭔가 저지르고 싶은','마음을 닫고 싶은','밥맛 떨어지는','무감각한','뒷전에 물러 난 듯한','중간에 끼인 듯한',\n",
        "'개 같은 느낌','버려진','궁지에 빠진','왕따 당한 듯한','마음이 급한','녹초가 된','덫에 걸린','뭐가 뭔지 알 수 없는','정리가 안 된 듯한','무관심한',\n",
        "'주체할 수 없는','양다리 걸친 것 같은','뒤틀린 것 같은','쉬고싶은','벼랑에 선 듯한','기대고 싶은','퇴짜맞은','들뜬','피곤한','걷어차인',\n",
        "'혼란스러운',\n",
        "'무서운', '무서워', '극혐', '떨렸', '불안해', '평범', '애증', '증오', '심심', '행복', '불안', '불안해', '피곤', '중요', '사소', '중요한'\n",
        "           '어색해', '어색', '어색하다', '따뜻한', '따뜻', '따듯', '따듯한', '불안정', '불안정해', '외롭지', '외롭', '외롭다',\n",
        "           '허탈', '여전', '성급', '신경쓰다', '신경쓰여', '신경쓸일']"
      ],
      "metadata": {
        "id": "kEbM5ikg7sxd"
      },
      "execution_count": null,
      "outputs": []
    },
    {
      "cell_type": "markdown",
      "source": [
        "### 시간 지칭\n",
        "\n",
        "날, 시, 초, 일"
      ],
      "metadata": {
        "id": "ZhzGjSqJ9dtW"
      }
    },
    {
      "cell_type": "code",
      "source": [
        "date = [\n",
        "'0시','10시','11시','12시','13시','14시','15시','16시','17시','18시',\n",
        "'19시','1시','20시','21시','22시','23시','24시간','2시','3시','4시',\n",
        "'5시','6시','7시','8시','9시',\n",
        "         '0일','10일','11일','12일','13일','14일','15일','16일','17일','18일',\n",
        "'19일','1일','20일','21일','22일','23일','24일간','2일','3일','4일',\n",
        "'5일','6일','7일','8일','9일', '25일', '26일', '27일', '28일', '29일', '30일', '31일'\n",
        "\n",
        "'개월','과거','그글피','그끄저께',\n",
        "'그제','글피','날','낮','내일','년','달','마지막','모레','미래',\n",
        "'밤','사흘','새벽','생시','서머타임','순간','시','시간','신시','아침',\n",
        "'어제','오늘','오전','오후','이틀','익일','일','일몰','일주일','일출',\n",
        "'저녁','점심','정오','주기','최근','최초','추억','칼파','하루','현재',\n",
        "'황시','황혼','희년','오랜만에', '자주','가끔', '오늘은', '오늘도', '오늘처럼', '오늘만큼', '오늘만',\n",
        "'어제는', '어제도', '어제만큼', '어제처럼', '언제쯤', '이번주', '이번', '이번달', '다음', '다음주', '다음달',\n",
        "'하루종일', '마지막', '처음', '지금', '최근에', '최근동안', '며칠', '몇일', '몇 일', '그날', '그 날'\n",
        "]"
      ],
      "metadata": {
        "id": "nKQNgNFm8FEI"
      },
      "execution_count": null,
      "outputs": []
    },
    {
      "cell_type": "code",
      "source": [
        "comparison_words = [\"미만\", \"초과\", \"이상\", \"이하\", \"동일\"] # , \"크다\", \"작다\", \"같다\", \"더 크다\", \"더 작다\", \"더 크거나 같다\", \"더 작거나 같다\", \"다르다\"]"
      ],
      "metadata": {
        "id": "5Lf2hMw3-JuW"
      },
      "execution_count": null,
      "outputs": []
    },
    {
      "cell_type": "code",
      "source": [
        "quantity_words = [\"가득\", \"텅\", \"많이\", \"적게\", \"많이도\", \"적게도\", \"많이많이\", \"적게적게\", \"넉넉히\", \"부족하게\",\n",
        "                  \"한가득\", \"많이많이\", \"적게적게\", \"넉넉히\", \"부족하게\", \"너무많이\", \"너무적게\", \"아주많이\", \"아주적게\",\n",
        "                  \"얼마나\", \"아주\", \"다수의\", \"소수의\", \"상당히\", \"적당히\", \"엄청\", \"매우\", \"상당수의\", \"대다수의\",\n",
        "                  \"적절한\", \"종종\", \"대부분\", \"거의\", \"모두\", \"다\", \"조금\", \"조금씩\", \"더\", \"더 많이\",\n",
        "                  \"덜\", \"더 적게\", \"좀\", \"매우\", \"매우 많이\", \"매우 적게\", \"그다지\", \"별로\", \"전혀\",\n",
        "                  \"많지 않게\", \"아주 조금\", \"적게도 많이\", \"많이도 적게\", \"그저 그렇게\", \"이미\", \"이제\",\n",
        "                  \"예전처럼\", \"전혀 없이\", \"아무런\", \"한참\", \"언제나\", \"언제\", \"이제는\", \"과거에는\", \"매번\",\n",
        "                  \"한때\", \"한동안\", \"계속\", \"끊임없이\", \"항상\", \"가끔\", \"때때로\", \"때때로는\", \"흔히\", \"비교적\",\n",
        "                  \"자주\", \"종종씩\", \"가끔가다\", \"가끔씩\", \"간혹\", \"가끔씩은\", \"가끔씩도\", \"자주도\", \"일부분만\", \"전부\",\n",
        "                  \"대부분은\", \"극소수만\", \"가끔은\", \"무엇이든\", \"모든 것\", \"한결같이\", \"한때의\", \"지금은\", \"이미 없다\",\n",
        "                  \"그대로\", \"그대로만\", \"그대로라면\", \"여전히\", \"여전하게\", \"그렇게\", \"이렇게\", \"아직도\", \"아직\",\n",
        "                  \"계속해서\", \"이후로도\", \"이전에는\", \"이전에\", \"이후에는\", \"이후에\", \"그러한\", \"그러한 것\", \"이렇게도\",\n",
        "                  '이렇게', '저렇게', '다르게', '전혀', \"너무\", '벌서', '벌서또',\n",
        "                  \"아직도 없다\", \"이전에 없다\", \"이제까지\", \"그동안\", \"이전까지\", \"그때까지\", \"여전한\", \"이때까지\", \"지금까지\",\n",
        "                  '한개', '두개', '세개', '네개', '다섯개', '여섯개', '한 개', '두 개', '세 개', '네 개', '하나씩',\n",
        "                  '주변'\n",
        "]\n"
      ],
      "metadata": {
        "id": "oMXgjLc7BNUQ"
      },
      "execution_count": null,
      "outputs": []
    },
    {
      "cell_type": "markdown",
      "source": [
        "# 명사\n",
        "- 완전, 은근, 벌써, 진짜"
      ],
      "metadata": {
        "id": "CAclQbwSLr9p"
      }
    },
    {
      "cell_type": "code",
      "source": [
        "noun = ['완전', '은근', '벌써', '진짜', '가장', '그게', '대해', '다시', '요즘', '사실', '덕분에',\n",
        "        '덕분', '언제', '그냥', '뭔가', '내가', '함', '정말', '이랑', '아무',\n",
        "        '없이', '없다고', '없어', '거야', '왤케', '딱히', '그렇다', '이거'\n",
        "        '때문', '생각', '마음', '근데', '이걸', '저걸', '나름',\n",
        "        '싶은데', '싶은건', '거', '나', '일', '것', '수', '뭐', '때', '번', '월', '시', '줄', '년', '때', '니', '중', '줌', '아우', '때',\n",
        "        '당신', '처음', '아래', '갑자기', '솔직히', '너네들', '역시', '뭔지']"
      ],
      "metadata": {
        "id": "-RJg-ORHLw0D"
      },
      "execution_count": null,
      "outputs": []
    },
    {
      "cell_type": "markdown",
      "source": [
        "## 잘못된 동사형태\n",
        "- e.g) 재밋게, '~~했당'과 같이 당, 엉 등으로 끝나는 단어"
      ],
      "metadata": {
        "id": "bOREafI69O8o"
      }
    },
    {
      "cell_type": "code",
      "source": [
        "verb_endswith = [\n",
        "    '밋', '당', '이당', '했당', '햇당',\n",
        "    '재밋게', '재밋당', '들앙', '한데', '싶은건', '엿다', '을것', '는거', '하는', '가는', '먹는', '자는'\n",
        "    '할거' ,'았어', '할거', '할 것', '어잉', '갔다', '같다', '까요', '먹고'\n",
        "    '다엉', '시면', '하면', '에게', '왜케', '것들', '것은', '는건', '이랑', '하면서도', '서도', '다고',\n",
        "    '또', '였음', '돼', '을게', '었어', '진다', '든걸', '하구', '자구', '먹구', '해서', '겠어', '겟어', '겟고', '겟다', '겟움', '겟음', '겠다', '겠고', '했고', '햇다', '햇음', '했음'\n",
        "    '돼','엿음', '였네', '다옴', '한다', '박아논', '삿당', '해따', '인지', '와의', '싶다', '싯고', '이럼', '되는데', '관련', '은거', '내야', '았당', '낫다', '눈거', '랫다',\n",
        "    '싫어', '좋아', '긴건', '만큼', '갔다', '갓다', '아니뉴', '해서', '싶드'\n",
        "]"
      ],
      "metadata": {
        "id": "0PTGzonsk-Yw"
      },
      "execution_count": null,
      "outputs": []
    },
    {
      "cell_type": "code",
      "source": [
        "voca_startswith = [\n",
        "    '아무것', '왜케', '무엇', '그런', '또', '아무런', '많이', '때문', '자꾸', '할수', '다음', '몇', '이런', '저런', '그따', '그딴', '솔직히', '킹받'\n",
        "]"
      ],
      "metadata": {
        "id": "WgAEhiRrM3yY"
      },
      "execution_count": null,
      "outputs": []
    },
    {
      "cell_type": "code",
      "source": [
        "voca_equal = [\n",
        "    '안', '못', '잘', '왜', '다', '정알', '오랜', '이런지', '이', '할거', '필요해', '왜케', '누군가', '또', '예', '어', '아', '음', '흠', '때문', '자꾸',\n",
        "    '암것', '안하네'\n",
        "\n",
        "]"
      ],
      "metadata": {
        "id": "PKmChFn-NaC6"
      },
      "execution_count": null,
      "outputs": []
    },
    {
      "cell_type": "markdown",
      "source": [
        "## 감탄사"
      ],
      "metadata": {
        "id": "PXJ1TQEoLsWg"
      }
    },
    {
      "cell_type": "code",
      "source": [
        "gamtan = [\n",
        "    '와우', '우와', '아싸', '히이잉', '벨벵벨', '쿠쿠루삥뽕', '꾸득꾸득', '화이팅', '아자아자', '아자', '오예', '아싸비오', '헤롱헤롱', '헤롱', '옴마나', '어후', '에휴', '캬', '뿅'\n",
        "\n",
        "    ]"
      ],
      "metadata": {
        "id": "HFw91-3m9th1"
      },
      "execution_count": null,
      "outputs": []
    },
    {
      "cell_type": "markdown",
      "source": [
        "## 인터넷 말투"
      ],
      "metadata": {
        "id": "F0gAUot-MVOZ"
      }
    },
    {
      "cell_type": "code",
      "source": [
        "# 정확히 일치\n",
        "internet = ['안농', '최고', '안녕', '안뇽', '햇어', '그리구', '그리고', '그러나', '그래두', '어카냐', '저냥', '그냥저냥', '구래'\n",
        "\n",
        "            ]"
      ],
      "metadata": {
        "id": "X0m3G-9EMZS3"
      },
      "execution_count": null,
      "outputs": []
    },
    {
      "cell_type": "markdown",
      "source": [
        "## negative word"
      ],
      "metadata": {
        "id": "myvU4ntJQYoU"
      }
    },
    {
      "cell_type": "code",
      "source": [
        "# 정확히 일치\n",
        "neg_word = ['자살', '자해']"
      ],
      "metadata": {
        "id": "oCf_y3eTQaOH"
      },
      "execution_count": null,
      "outputs": []
    },
    {
      "cell_type": "code",
      "source": [],
      "metadata": {
        "id": "qz4R9czYTeTe"
      },
      "execution_count": null,
      "outputs": []
    },
    {
      "cell_type": "markdown",
      "source": [
        "# 정확히 일치\n",
        "\n",
        "ko_sw_temp \\\n",
        "emotion \\\n",
        "date \\\n",
        "comparison_words \\\n",
        "quantity_words \\\n",
        "noun \\\n",
        "voca_equal \\\n",
        "gamtan \\\n",
        "internet\n",
        "\n",
        "# 포함\n",
        "bad_words \\\n",
        "neg_word\n",
        "\n",
        "# endswtih\n",
        "verb_endswith\n",
        "\n",
        "# startswith\n",
        "voca_startswith\n"
      ],
      "metadata": {
        "id": "ElmE5rv3mHNR"
      }
    },
    {
      "cell_type": "markdown",
      "source": [
        "# stopword df"
      ],
      "metadata": {
        "id": "NTcgq9VvsH36"
      }
    },
    {
      "cell_type": "code",
      "source": [
        "import pandas as pd\n",
        "\n",
        "# 초기 데이터프레임 생성\n",
        "stopword_korean = pd.DataFrame(columns=['word', 'equal', 'include', 'endswith', 'startswith'])\n",
        "\n",
        "def make_stopword_korean(wordlist: list, equal: bool = False, include: bool = False, endswith: bool = False, startswith: bool = False):\n",
        "    global stopword_korean  # 전역 변수 사용 선언\n",
        "\n",
        "    # 주어진 인자에 따라 값을 설정하고 새로운 데이터프레임에 추가\n",
        "    new_df = pd.DataFrame(columns=['word', 'equal', 'include', 'endswith', 'startswith'])\n",
        "\n",
        "    # 이전 데이터프레임 복사\n",
        "    new_df = pd.concat([stopword_korean, new_df], ignore_index=True)\n",
        "\n",
        "    # 주어진 단어들을 추가\n",
        "    for i, word in enumerate(wordlist):\n",
        "        new_df.at[i + len(stopword_korean), 'word'] = word\n",
        "        new_df.at[i + len(stopword_korean), 'equal'] = equal\n",
        "        new_df.at[i + len(stopword_korean), 'include'] = include\n",
        "        new_df.at[i + len(stopword_korean), 'endswith'] = endswith\n",
        "        new_df.at[i + len(stopword_korean), 'startswith'] = startswith\n",
        "\n",
        "    print(f\"{i + 1}개의 단어가 추가되었습니다.\")\n",
        "\n",
        "    # 전역 변수에 새로운 데이터프레임 할당\n",
        "    stopword_korean = new_df\n",
        "\n",
        "# 각 함수 호출 시에는 계속해서 추가\n",
        "make_stopword_korean(ko_sw_temp, equal=True)\n",
        "make_stopword_korean(date, equal=True)\n",
        "make_stopword_korean(comparison_words, equal=True)\n",
        "make_stopword_korean(quantity_words, equal=True)\n",
        "make_stopword_korean(noun, equal=True)\n",
        "make_stopword_korean(voca_equal, equal=True)\n",
        "make_stopword_korean(gamtan, equal=True)\n",
        "make_stopword_korean(internet, equal=True)\n",
        "\n",
        "make_stopword_korean(bad_words, include=True)\n",
        "make_stopword_korean(neg_word, include=True)\n",
        "make_stopword_korean(emotion, include=True)\n",
        "\n",
        "make_stopword_korean(verb_endswith, endswith=True)\n",
        "\n",
        "make_stopword_korean(voca_startswith, startswith=True)\n"
      ],
      "metadata": {
        "colab": {
          "base_uri": "https://localhost:8080/"
        },
        "id": "pv-_sIL2sJmA",
        "outputId": "04397d3e-554a-4c83-d62e-ae3e006a37e7"
      },
      "execution_count": null,
      "outputs": [
        {
          "output_type": "stream",
          "name": "stdout",
          "text": [
            "672개의 단어가 추가되었습니다.\n",
            "133개의 단어가 추가되었습니다.\n",
            "5개의 단어가 추가되었습니다.\n",
            "139개의 단어가 추가되었습니다.\n",
            "62개의 단어가 추가되었습니다.\n",
            "23개의 단어가 추가되었습니다.\n",
            "19개의 단어가 추가되었습니다.\n",
            "13개의 단어가 추가되었습니다.\n",
            "2383개의 단어가 추가되었습니다.\n",
            "2개의 단어가 추가되었습니다.\n",
            "367개의 단어가 추가되었습니다.\n",
            "88개의 단어가 추가되었습니다.\n",
            "18개의 단어가 추가되었습니다.\n"
          ]
        }
      ]
    },
    {
      "cell_type": "code",
      "source": [
        "stopword_korean"
      ],
      "metadata": {
        "colab": {
          "base_uri": "https://localhost:8080/",
          "height": 423
        },
        "id": "2D8G0o94sMsu",
        "outputId": "b7bdd5de-bca4-4052-e121-13ade1464773"
      },
      "execution_count": null,
      "outputs": [
        {
          "output_type": "execute_result",
          "data": {
            "text/plain": [
              "     word  equal include endswith startswith\n",
              "0       아   True   False    False      False\n",
              "1       휴   True   False    False      False\n",
              "2     아이구   True   False    False      False\n",
              "3     아이쿠   True   False    False      False\n",
              "4     아이고   True   False    False      False\n",
              "...   ...    ...     ...      ...        ...\n",
              "3919   저런  False   False    False       True\n",
              "3920   그따  False   False    False       True\n",
              "3921   그딴  False   False    False       True\n",
              "3922  솔직히  False   False    False       True\n",
              "3923   킹받  False   False    False       True\n",
              "\n",
              "[3924 rows x 5 columns]"
            ],
            "text/html": [
              "\n",
              "  <div id=\"df-8d6d4ee1-38fa-4fe9-aa84-ffc481595d9a\" class=\"colab-df-container\">\n",
              "    <div>\n",
              "<style scoped>\n",
              "    .dataframe tbody tr th:only-of-type {\n",
              "        vertical-align: middle;\n",
              "    }\n",
              "\n",
              "    .dataframe tbody tr th {\n",
              "        vertical-align: top;\n",
              "    }\n",
              "\n",
              "    .dataframe thead th {\n",
              "        text-align: right;\n",
              "    }\n",
              "</style>\n",
              "<table border=\"1\" class=\"dataframe\">\n",
              "  <thead>\n",
              "    <tr style=\"text-align: right;\">\n",
              "      <th></th>\n",
              "      <th>word</th>\n",
              "      <th>equal</th>\n",
              "      <th>include</th>\n",
              "      <th>endswith</th>\n",
              "      <th>startswith</th>\n",
              "    </tr>\n",
              "  </thead>\n",
              "  <tbody>\n",
              "    <tr>\n",
              "      <th>0</th>\n",
              "      <td>아</td>\n",
              "      <td>True</td>\n",
              "      <td>False</td>\n",
              "      <td>False</td>\n",
              "      <td>False</td>\n",
              "    </tr>\n",
              "    <tr>\n",
              "      <th>1</th>\n",
              "      <td>휴</td>\n",
              "      <td>True</td>\n",
              "      <td>False</td>\n",
              "      <td>False</td>\n",
              "      <td>False</td>\n",
              "    </tr>\n",
              "    <tr>\n",
              "      <th>2</th>\n",
              "      <td>아이구</td>\n",
              "      <td>True</td>\n",
              "      <td>False</td>\n",
              "      <td>False</td>\n",
              "      <td>False</td>\n",
              "    </tr>\n",
              "    <tr>\n",
              "      <th>3</th>\n",
              "      <td>아이쿠</td>\n",
              "      <td>True</td>\n",
              "      <td>False</td>\n",
              "      <td>False</td>\n",
              "      <td>False</td>\n",
              "    </tr>\n",
              "    <tr>\n",
              "      <th>4</th>\n",
              "      <td>아이고</td>\n",
              "      <td>True</td>\n",
              "      <td>False</td>\n",
              "      <td>False</td>\n",
              "      <td>False</td>\n",
              "    </tr>\n",
              "    <tr>\n",
              "      <th>...</th>\n",
              "      <td>...</td>\n",
              "      <td>...</td>\n",
              "      <td>...</td>\n",
              "      <td>...</td>\n",
              "      <td>...</td>\n",
              "    </tr>\n",
              "    <tr>\n",
              "      <th>3919</th>\n",
              "      <td>저런</td>\n",
              "      <td>False</td>\n",
              "      <td>False</td>\n",
              "      <td>False</td>\n",
              "      <td>True</td>\n",
              "    </tr>\n",
              "    <tr>\n",
              "      <th>3920</th>\n",
              "      <td>그따</td>\n",
              "      <td>False</td>\n",
              "      <td>False</td>\n",
              "      <td>False</td>\n",
              "      <td>True</td>\n",
              "    </tr>\n",
              "    <tr>\n",
              "      <th>3921</th>\n",
              "      <td>그딴</td>\n",
              "      <td>False</td>\n",
              "      <td>False</td>\n",
              "      <td>False</td>\n",
              "      <td>True</td>\n",
              "    </tr>\n",
              "    <tr>\n",
              "      <th>3922</th>\n",
              "      <td>솔직히</td>\n",
              "      <td>False</td>\n",
              "      <td>False</td>\n",
              "      <td>False</td>\n",
              "      <td>True</td>\n",
              "    </tr>\n",
              "    <tr>\n",
              "      <th>3923</th>\n",
              "      <td>킹받</td>\n",
              "      <td>False</td>\n",
              "      <td>False</td>\n",
              "      <td>False</td>\n",
              "      <td>True</td>\n",
              "    </tr>\n",
              "  </tbody>\n",
              "</table>\n",
              "<p>3924 rows × 5 columns</p>\n",
              "</div>\n",
              "    <div class=\"colab-df-buttons\">\n",
              "\n",
              "  <div class=\"colab-df-container\">\n",
              "    <button class=\"colab-df-convert\" onclick=\"convertToInteractive('df-8d6d4ee1-38fa-4fe9-aa84-ffc481595d9a')\"\n",
              "            title=\"Convert this dataframe to an interactive table.\"\n",
              "            style=\"display:none;\">\n",
              "\n",
              "  <svg xmlns=\"http://www.w3.org/2000/svg\" height=\"24px\" viewBox=\"0 -960 960 960\">\n",
              "    <path d=\"M120-120v-720h720v720H120Zm60-500h600v-160H180v160Zm220 220h160v-160H400v160Zm0 220h160v-160H400v160ZM180-400h160v-160H180v160Zm440 0h160v-160H620v160ZM180-180h160v-160H180v160Zm440 0h160v-160H620v160Z\"/>\n",
              "  </svg>\n",
              "    </button>\n",
              "\n",
              "  <style>\n",
              "    .colab-df-container {\n",
              "      display:flex;\n",
              "      gap: 12px;\n",
              "    }\n",
              "\n",
              "    .colab-df-convert {\n",
              "      background-color: #E8F0FE;\n",
              "      border: none;\n",
              "      border-radius: 50%;\n",
              "      cursor: pointer;\n",
              "      display: none;\n",
              "      fill: #1967D2;\n",
              "      height: 32px;\n",
              "      padding: 0 0 0 0;\n",
              "      width: 32px;\n",
              "    }\n",
              "\n",
              "    .colab-df-convert:hover {\n",
              "      background-color: #E2EBFA;\n",
              "      box-shadow: 0px 1px 2px rgba(60, 64, 67, 0.3), 0px 1px 3px 1px rgba(60, 64, 67, 0.15);\n",
              "      fill: #174EA6;\n",
              "    }\n",
              "\n",
              "    .colab-df-buttons div {\n",
              "      margin-bottom: 4px;\n",
              "    }\n",
              "\n",
              "    [theme=dark] .colab-df-convert {\n",
              "      background-color: #3B4455;\n",
              "      fill: #D2E3FC;\n",
              "    }\n",
              "\n",
              "    [theme=dark] .colab-df-convert:hover {\n",
              "      background-color: #434B5C;\n",
              "      box-shadow: 0px 1px 3px 1px rgba(0, 0, 0, 0.15);\n",
              "      filter: drop-shadow(0px 1px 2px rgba(0, 0, 0, 0.3));\n",
              "      fill: #FFFFFF;\n",
              "    }\n",
              "  </style>\n",
              "\n",
              "    <script>\n",
              "      const buttonEl =\n",
              "        document.querySelector('#df-8d6d4ee1-38fa-4fe9-aa84-ffc481595d9a button.colab-df-convert');\n",
              "      buttonEl.style.display =\n",
              "        google.colab.kernel.accessAllowed ? 'block' : 'none';\n",
              "\n",
              "      async function convertToInteractive(key) {\n",
              "        const element = document.querySelector('#df-8d6d4ee1-38fa-4fe9-aa84-ffc481595d9a');\n",
              "        const dataTable =\n",
              "          await google.colab.kernel.invokeFunction('convertToInteractive',\n",
              "                                                    [key], {});\n",
              "        if (!dataTable) return;\n",
              "\n",
              "        const docLinkHtml = 'Like what you see? Visit the ' +\n",
              "          '<a target=\"_blank\" href=https://colab.research.google.com/notebooks/data_table.ipynb>data table notebook</a>'\n",
              "          + ' to learn more about interactive tables.';\n",
              "        element.innerHTML = '';\n",
              "        dataTable['output_type'] = 'display_data';\n",
              "        await google.colab.output.renderOutput(dataTable, element);\n",
              "        const docLink = document.createElement('div');\n",
              "        docLink.innerHTML = docLinkHtml;\n",
              "        element.appendChild(docLink);\n",
              "      }\n",
              "    </script>\n",
              "  </div>\n",
              "\n",
              "\n",
              "<div id=\"df-4244667f-c95e-4410-81de-fa05556a2ec8\">\n",
              "  <button class=\"colab-df-quickchart\" onclick=\"quickchart('df-4244667f-c95e-4410-81de-fa05556a2ec8')\"\n",
              "            title=\"Suggest charts\"\n",
              "            style=\"display:none;\">\n",
              "\n",
              "<svg xmlns=\"http://www.w3.org/2000/svg\" height=\"24px\"viewBox=\"0 0 24 24\"\n",
              "     width=\"24px\">\n",
              "    <g>\n",
              "        <path d=\"M19 3H5c-1.1 0-2 .9-2 2v14c0 1.1.9 2 2 2h14c1.1 0 2-.9 2-2V5c0-1.1-.9-2-2-2zM9 17H7v-7h2v7zm4 0h-2V7h2v10zm4 0h-2v-4h2v4z\"/>\n",
              "    </g>\n",
              "</svg>\n",
              "  </button>\n",
              "\n",
              "<style>\n",
              "  .colab-df-quickchart {\n",
              "      --bg-color: #E8F0FE;\n",
              "      --fill-color: #1967D2;\n",
              "      --hover-bg-color: #E2EBFA;\n",
              "      --hover-fill-color: #174EA6;\n",
              "      --disabled-fill-color: #AAA;\n",
              "      --disabled-bg-color: #DDD;\n",
              "  }\n",
              "\n",
              "  [theme=dark] .colab-df-quickchart {\n",
              "      --bg-color: #3B4455;\n",
              "      --fill-color: #D2E3FC;\n",
              "      --hover-bg-color: #434B5C;\n",
              "      --hover-fill-color: #FFFFFF;\n",
              "      --disabled-bg-color: #3B4455;\n",
              "      --disabled-fill-color: #666;\n",
              "  }\n",
              "\n",
              "  .colab-df-quickchart {\n",
              "    background-color: var(--bg-color);\n",
              "    border: none;\n",
              "    border-radius: 50%;\n",
              "    cursor: pointer;\n",
              "    display: none;\n",
              "    fill: var(--fill-color);\n",
              "    height: 32px;\n",
              "    padding: 0;\n",
              "    width: 32px;\n",
              "  }\n",
              "\n",
              "  .colab-df-quickchart:hover {\n",
              "    background-color: var(--hover-bg-color);\n",
              "    box-shadow: 0 1px 2px rgba(60, 64, 67, 0.3), 0 1px 3px 1px rgba(60, 64, 67, 0.15);\n",
              "    fill: var(--button-hover-fill-color);\n",
              "  }\n",
              "\n",
              "  .colab-df-quickchart-complete:disabled,\n",
              "  .colab-df-quickchart-complete:disabled:hover {\n",
              "    background-color: var(--disabled-bg-color);\n",
              "    fill: var(--disabled-fill-color);\n",
              "    box-shadow: none;\n",
              "  }\n",
              "\n",
              "  .colab-df-spinner {\n",
              "    border: 2px solid var(--fill-color);\n",
              "    border-color: transparent;\n",
              "    border-bottom-color: var(--fill-color);\n",
              "    animation:\n",
              "      spin 1s steps(1) infinite;\n",
              "  }\n",
              "\n",
              "  @keyframes spin {\n",
              "    0% {\n",
              "      border-color: transparent;\n",
              "      border-bottom-color: var(--fill-color);\n",
              "      border-left-color: var(--fill-color);\n",
              "    }\n",
              "    20% {\n",
              "      border-color: transparent;\n",
              "      border-left-color: var(--fill-color);\n",
              "      border-top-color: var(--fill-color);\n",
              "    }\n",
              "    30% {\n",
              "      border-color: transparent;\n",
              "      border-left-color: var(--fill-color);\n",
              "      border-top-color: var(--fill-color);\n",
              "      border-right-color: var(--fill-color);\n",
              "    }\n",
              "    40% {\n",
              "      border-color: transparent;\n",
              "      border-right-color: var(--fill-color);\n",
              "      border-top-color: var(--fill-color);\n",
              "    }\n",
              "    60% {\n",
              "      border-color: transparent;\n",
              "      border-right-color: var(--fill-color);\n",
              "    }\n",
              "    80% {\n",
              "      border-color: transparent;\n",
              "      border-right-color: var(--fill-color);\n",
              "      border-bottom-color: var(--fill-color);\n",
              "    }\n",
              "    90% {\n",
              "      border-color: transparent;\n",
              "      border-bottom-color: var(--fill-color);\n",
              "    }\n",
              "  }\n",
              "</style>\n",
              "\n",
              "  <script>\n",
              "    async function quickchart(key) {\n",
              "      const quickchartButtonEl =\n",
              "        document.querySelector('#' + key + ' button');\n",
              "      quickchartButtonEl.disabled = true;  // To prevent multiple clicks.\n",
              "      quickchartButtonEl.classList.add('colab-df-spinner');\n",
              "      try {\n",
              "        const charts = await google.colab.kernel.invokeFunction(\n",
              "            'suggestCharts', [key], {});\n",
              "      } catch (error) {\n",
              "        console.error('Error during call to suggestCharts:', error);\n",
              "      }\n",
              "      quickchartButtonEl.classList.remove('colab-df-spinner');\n",
              "      quickchartButtonEl.classList.add('colab-df-quickchart-complete');\n",
              "    }\n",
              "    (() => {\n",
              "      let quickchartButtonEl =\n",
              "        document.querySelector('#df-4244667f-c95e-4410-81de-fa05556a2ec8 button');\n",
              "      quickchartButtonEl.style.display =\n",
              "        google.colab.kernel.accessAllowed ? 'block' : 'none';\n",
              "    })();\n",
              "  </script>\n",
              "</div>\n",
              "\n",
              "  <div id=\"id_f72fb845-9eca-4076-b25c-b401702798bf\">\n",
              "    <style>\n",
              "      .colab-df-generate {\n",
              "        background-color: #E8F0FE;\n",
              "        border: none;\n",
              "        border-radius: 50%;\n",
              "        cursor: pointer;\n",
              "        display: none;\n",
              "        fill: #1967D2;\n",
              "        height: 32px;\n",
              "        padding: 0 0 0 0;\n",
              "        width: 32px;\n",
              "      }\n",
              "\n",
              "      .colab-df-generate:hover {\n",
              "        background-color: #E2EBFA;\n",
              "        box-shadow: 0px 1px 2px rgba(60, 64, 67, 0.3), 0px 1px 3px 1px rgba(60, 64, 67, 0.15);\n",
              "        fill: #174EA6;\n",
              "      }\n",
              "\n",
              "      [theme=dark] .colab-df-generate {\n",
              "        background-color: #3B4455;\n",
              "        fill: #D2E3FC;\n",
              "      }\n",
              "\n",
              "      [theme=dark] .colab-df-generate:hover {\n",
              "        background-color: #434B5C;\n",
              "        box-shadow: 0px 1px 3px 1px rgba(0, 0, 0, 0.15);\n",
              "        filter: drop-shadow(0px 1px 2px rgba(0, 0, 0, 0.3));\n",
              "        fill: #FFFFFF;\n",
              "      }\n",
              "    </style>\n",
              "    <button class=\"colab-df-generate\" onclick=\"generateWithVariable('stopword_korean')\"\n",
              "            title=\"Generate code using this dataframe.\"\n",
              "            style=\"display:none;\">\n",
              "\n",
              "  <svg xmlns=\"http://www.w3.org/2000/svg\" height=\"24px\"viewBox=\"0 0 24 24\"\n",
              "       width=\"24px\">\n",
              "    <path d=\"M7,19H8.4L18.45,9,17,7.55,7,17.6ZM5,21V16.75L18.45,3.32a2,2,0,0,1,2.83,0l1.4,1.43a1.91,1.91,0,0,1,.58,1.4,1.91,1.91,0,0,1-.58,1.4L9.25,21ZM18.45,9,17,7.55Zm-12,3A5.31,5.31,0,0,0,4.9,8.1,5.31,5.31,0,0,0,1,6.5,5.31,5.31,0,0,0,4.9,4.9,5.31,5.31,0,0,0,6.5,1,5.31,5.31,0,0,0,8.1,4.9,5.31,5.31,0,0,0,12,6.5,5.46,5.46,0,0,0,6.5,12Z\"/>\n",
              "  </svg>\n",
              "    </button>\n",
              "    <script>\n",
              "      (() => {\n",
              "      const buttonEl =\n",
              "        document.querySelector('#id_f72fb845-9eca-4076-b25c-b401702798bf button.colab-df-generate');\n",
              "      buttonEl.style.display =\n",
              "        google.colab.kernel.accessAllowed ? 'block' : 'none';\n",
              "\n",
              "      buttonEl.onclick = () => {\n",
              "        google.colab.notebook.generateWithVariable('stopword_korean');\n",
              "      }\n",
              "      })();\n",
              "    </script>\n",
              "  </div>\n",
              "\n",
              "    </div>\n",
              "  </div>\n"
            ]
          },
          "metadata": {},
          "execution_count": 16
        }
      ]
    },
    {
      "cell_type": "code",
      "source": [
        "# 데이터프레임을 피클 파일로 저장\n",
        "stopword_korean.to_pickle('...')"
      ],
      "metadata": {
        "id": "bnCSwZzhsyZN"
      },
      "execution_count": null,
      "outputs": []
    },
    {
      "cell_type": "code",
      "source": [],
      "metadata": {
        "id": "gwP44X-5-h3J"
      },
      "execution_count": null,
      "outputs": []
    },
    {
      "cell_type": "code",
      "source": [
        "\n"
      ],
      "metadata": {
        "id": "S_oP49cYLpmI"
      },
      "execution_count": null,
      "outputs": []
    }
  ]
}